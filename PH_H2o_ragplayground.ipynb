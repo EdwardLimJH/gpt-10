{
 "cells": [
  {
   "cell_type": "markdown",
   "metadata": {},
   "source": [
    "<h1>Sentimental analysis/ Task prioritisation<h1>"
   ]
  },
  {
   "cell_type": "code",
   "execution_count": 1,
   "metadata": {},
   "outputs": [],
   "source": [
    "from dotenv import load_dotenv\n",
    "import os"
   ]
  },
  {
   "cell_type": "code",
   "execution_count": 2,
   "metadata": {},
   "outputs": [
    {
     "data": {
      "text/plain": [
       "True"
      ]
     },
     "execution_count": 2,
     "metadata": {},
     "output_type": "execute_result"
    }
   ],
   "source": [
    "load_dotenv()"
   ]
  },
  {
   "cell_type": "code",
   "execution_count": 3,
   "metadata": {},
   "outputs": [],
   "source": [
    "H2O_API_KEY = os.getenv(\"H2O_API_KEY\") "
   ]
  },
  {
   "cell_type": "markdown",
   "metadata": {},
   "source": [
    "<h3>Initialise h2o client<h3>"
   ]
  },
  {
   "cell_type": "code",
   "execution_count": 4,
   "metadata": {},
   "outputs": [
    {
     "name": "stdout",
     "output_type": "stream",
     "text": [
      "Warning: Server version 1.4.7 doesn't match client version 1.3.11: unexpected errors may occur.\n",
      "Please install the correct version of H2OGPTE with `pip install h2ogpte==1.4.7`.\n",
      "You can enable strict version checking by passing strict_version_check=True.\n"
     ]
    }
   ],
   "source": [
    "from h2ogpte import H2OGPTE\n",
    "\n",
    "client = H2OGPTE(\n",
    "    address='https://h2ogpte.genai.h2o.ai',\n",
    "    api_key= H2O_API_KEY,\n",
    ")"
   ]
  },
  {
   "cell_type": "code",
   "execution_count": 5,
   "metadata": {},
   "outputs": [],
   "source": [
    "# pip install h2ogpte==1.4.7\n",
    "# rmb to restart after pip install"
   ]
  },
  {
   "cell_type": "code",
   "execution_count": 6,
   "metadata": {},
   "outputs": [],
   "source": [
    "# Retrieve a collection, assuming 1 collection\n",
    "collection_id = client.list_recent_collections(0,5)[0].id\n"
   ]
  },
  {
   "cell_type": "markdown",
   "metadata": {},
   "source": [
    "<h3>Ingest documents into collection</h>"
   ]
  },
  {
   "cell_type": "code",
   "execution_count": 7,
   "metadata": {},
   "outputs": [
    {
     "data": {
      "text/plain": [
       "Job(id='7e092874-f048-4e12-a756-a5ba76bd6b7a', passed=1.0, failed=0.0, progress=1.0, completed=True, canceled=False, date=datetime.datetime(2024, 3, 23, 16, 43, 52, tzinfo=TzInfo(UTC)), kind=<JobKind.IngestUploadsJob: 'IngestUploadsJob'>, statuses=[JobStatus(id='7294d974664446aea89605922b1dca67', status='Collecting done.'), JobStatus(id='16b14b9d57f94c39b4446ff557971f4c', status='Indexing done.')], errors=[], last_update_date=datetime.datetime(2024, 3, 23, 16, 43, 56, tzinfo=TzInfo(UTC)), duration='4s')"
      ]
     },
     "execution_count": 7,
     "metadata": {},
     "output_type": "execute_result"
    }
   ],
   "source": [
    "with open('meeting_minute.txt', 'rb') as f:\n",
    "    meeting_data2 = client.upload('meetingData2.txt', f)\n",
    "client.ingest_uploads(collection_id, [meeting_data2])\n"
   ]
  },
  {
   "cell_type": "markdown",
   "metadata": {},
   "source": [
    "<h3>Initialise chat session</h3>"
   ]
  },
  {
   "cell_type": "code",
   "execution_count": 8,
   "metadata": {},
   "outputs": [],
   "source": [
    "chat_session_id = client.create_chat_session(collection_id)"
   ]
  },
  {
   "cell_type": "markdown",
   "metadata": {},
   "source": [
    "<h3>Initialise RAG</h3>"
   ]
  },
  {
   "cell_type": "code",
   "execution_count": 9,
   "metadata": {},
   "outputs": [],
   "source": [
    "# Custom RAG prompting \n",
    "def urgency_ordering(client, chat_session_id, llm_index, query):\n",
    "    llm_list = ['h2oai/h2ogpt-4096-llama2-70b-chat',\n",
    "                'h2oai/h2ogpt-4096-llama2-13b-chat',\n",
    "                'h2oai/h2ogpt-32k-codellama-34b-instruct',\n",
    "                'mistralai/Mixtral-8x7B-Instruct-v0.1',\n",
    "                'mistral-small-latest',\n",
    "                'mistral-medium',\n",
    "                'mistral-large-latest',\n",
    "                ]\n",
    "    with client.connect(chat_session_id) as session:\n",
    "        llm = llm_list[llm_index]\n",
    "        answer = session.query(\n",
    "            message=query,\n",
    "            system_prompt=\"\"\"You are a very helpful Large Language Model. \n",
    "            I will give you a $200 tip if you answer the question correctly, otherwise I will lose my job.'\n",
    "            \"\"\",\n",
    "            pre_prompt_query=\"\"\"Pay attention and remember the information below. \n",
    "            You will need to use only the given document context to answer the question or imperative at the end.\\n\n",
    "            \"\"\",\n",
    "            llm=llm,\n",
    "            timeout=60,\n",
    "        ).content\n",
    "        print(f\"\\n\\n\\n{llm}\\n\" + answer)"
   ]
  },
  {
   "cell_type": "code",
   "execution_count": 12,
   "metadata": {},
   "outputs": [
    {
     "name": "stdout",
     "output_type": "stream",
     "text": [
      "\n",
      "\n",
      "\n",
      "h2oai/h2ogpt-4096-llama2-70b-chat\n",
      "Sure, here's the output in the requested format, translated to Mandarin Chinese:\n",
      "\n",
      "{\n",
      "\"行动\": \"完成数据收集\",\n",
      "\"截止日期\": \"2024年3月20日\",\n",
      "\"分配给\": \"Alex\",\n",
      "\"优先级\": \"高\"\n",
      "}\n",
      "\n",
      "{\n",
      "\"行动\": \"完成数据预处理\",\n",
      "\"截止日期\": \"2024年3月20日\",\n",
      "\"分配给\": \"Alex\",\n",
      "\"优先级\": \"高\"\n",
      "}\n",
      "\n",
      "{\n",
      "\"行动\": \"完成代码优化\",\n",
      "\"截止日期\": \"2024年3月27日\",\n",
      "\"分配给\": \"Emily\",\n",
      "\"优先级\": \"高\"\n",
      "}\n",
      "\n",
      "{\n",
      "\"行动\": \"完成研究文献综述\",\n",
      "\"截止日期\": \"2024年3月27日\",\n",
      "\"分配给\": \"Chris\",\n",
      "\"优先级\": \"中\"\n",
      "}\n",
      "\n",
      "{\n",
      "\"行动\": \"完成展示准备\",\n",
      "\"截止日期\": \"2024年3月31日\",\n",
      "\"分配给\": \"Sam\",\n",
      "\"优先级\": \"高\"\n",
      "}\n",
      "\n",
      "{\n",
      "\"行动\": \"协调预算资源\",\n",
      "\"截止日期\": \"2024年3月31日\",\n",
      "\"分配给\": \"Sarah\",\n",
      "\"优先级\": \"中\"\n",
      "}\n",
      "\n",
      "Note: The priority levels are based on the deadlines and importance of each task, and have been translated to Mandarin Chinese as follows:\n",
      "\n",
      "* 高 (gāo) - High\n",
      "* 中 (zhōng) - Medium\n",
      "* 低 (dī) - Low\n"
     ]
    }
   ],
   "source": [
    "variant1 = urgency_ordering(\n",
    "    client, \n",
    "    chat_session_id,\n",
    "    0,\n",
    "    \"\"\"\n",
    "    According to only the information in the document sources provided within the collection, retreive the \n",
    "    action items and meeting transcript and output all actions with a priority category. \n",
    "    Categorise them by either 'Low', 'Medium', or 'High'.\n",
    "    To determine priority category, score the action items according to the urgency and deadline of the items.\n",
    "    Importance of an action item depends on the action tasks' deadline, impact to a project, team or organisation,\n",
    "    dependencies of other action tasks for completion, strategic importance to overall goals and objectives\n",
    "    of the project or organisation, and complexity and effort.\n",
    "    For action items that are most important and most urgent that needs to be done as soon as possible, categorise it as 'High'.\n",
    "    For action items that are important but not as urgent, categorise it as 'Medium'.\n",
    "    For action items that are not important and not urgent, categorise it as 'Low'.\n",
    "\n",
    "    Translate all the results to mandarin chinese language for output.\n",
    "    \n",
    "    The entire output must be translated to mandarin chinese language and in the following JSON format:\n",
    "    {\"Action\": ,\n",
    "    \"Deadline: ,\n",
    "    \"Assigned to\": ,\n",
    "    \"Priority\": ,\n",
    "    }\n",
    "\n",
    "    Translate the keys of the JSON to mandarin chinese language as well.\n",
    "    \"\"\"\n",
    "    )\n",
    "\n",
    "# variant2 = urgency_ordering(\n",
    "#     client, \n",
    "#     chat_session_id,\n",
    "#     1,\n",
    "#     \"\"\"\n",
    "#     According to only the information in the document sources provided within the collection, retreive the \n",
    "#     action items and meeting transcript and output all actions with a priority category. \n",
    "#     Categorise them by either 'Low', 'Medium', or 'High'.\n",
    "#     To determine priority category, score the action items according to the urgency and deadline of the items.\n",
    "#     Importance of an action item depends on the action tasks' deadline, impact to a project, team or organisation,\n",
    "#     dependencies of other action tasks for completion, strategic importance to overall goals and objectives\n",
    "#     of the project or organisation, and complexity and effort.\n",
    "#     For action items that are most important and most urgent that needs to be done as soon as possible, categorise it as 'High'.\n",
    "#     For action items that are important but not as urgent, categorise it as 'Medium'.\n",
    "#     For action items that are not important and not urgent, categorise it as 'Low'.\n",
    "\n",
    "#     Output in the following JSON format:\n",
    "#     {\"Action\": ,\n",
    "#     \"Deadline: ,\n",
    "#     \"Assigned to\": ,\n",
    "#     \"Priority\": ,\n",
    "#     }\n",
    "#     \"\"\"\n",
    "#     )\n",
    "\n",
    "# variant2 = urgency_ordering(\n",
    "#     client, \n",
    "#     chat_session_id,\n",
    "#     2,\n",
    "#     \"\"\"\n",
    "#     According to only the information in the document sources provided within the collection, retreive the \n",
    "#     action items and meeting transcript and output all actions with a priority category. \n",
    "#     Categorise them by either 'Low', 'Medium', or 'High'.\n",
    "#     To determine priority category, score the action items according to the urgency and deadline of the items.\n",
    "#     Importance of an action item depends on the action tasks' deadline, impact to a project, team or organisation,\n",
    "#     dependencies of other action tasks for completion, strategic importance to overall goals and objectives\n",
    "#     of the project or organisation, and complexity and effort.\n",
    "#     For action items that are most important and most urgent that needs to be done as soon as possible, categorise it as 'High'.\n",
    "#     For action items that are important but not as urgent, categorise it as 'Medium'.\n",
    "#     For action items that are not important and not urgent, categorise it as 'Low'.\n",
    "\n",
    "#     Output in the following JSON format:\n",
    "#     {\"Action\": ,\n",
    "#     \"Deadline: ,\n",
    "#     \"Assigned to\": ,\n",
    "#     \"Priority\": ,\n",
    "#     }\n",
    "#     \"\"\"\n",
    "#     )\n",
    "\n"
   ]
  },
  {
   "cell_type": "code",
   "execution_count": null,
   "metadata": {},
   "outputs": [],
   "source": []
  }
 ],
 "metadata": {
  "kernelspec": {
   "display_name": "ragenv",
   "language": "python",
   "name": "python3"
  },
  "language_info": {
   "codemirror_mode": {
    "name": "ipython",
    "version": 3
   },
   "file_extension": ".py",
   "mimetype": "text/x-python",
   "name": "python",
   "nbconvert_exporter": "python",
   "pygments_lexer": "ipython3",
   "version": "3.10.0"
  }
 },
 "nbformat": 4,
 "nbformat_minor": 2
}
