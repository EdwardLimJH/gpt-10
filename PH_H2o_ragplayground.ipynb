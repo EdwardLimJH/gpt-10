{
 "cells": [
  {
   "cell_type": "markdown",
   "metadata": {},
   "source": [
    "<h1>Sentimental analysis/ Task prioritisation<h1>"
   ]
  },
  {
   "cell_type": "code",
   "execution_count": 9,
   "metadata": {},
   "outputs": [],
   "source": [
    "from dotenv import load_dotenv\n",
    "import os"
   ]
  },
  {
   "cell_type": "code",
   "execution_count": 10,
   "metadata": {},
   "outputs": [
    {
     "data": {
      "text/plain": [
       "True"
      ]
     },
     "execution_count": 10,
     "metadata": {},
     "output_type": "execute_result"
    }
   ],
   "source": [
    "load_dotenv()"
   ]
  },
  {
   "cell_type": "code",
   "execution_count": 11,
   "metadata": {},
   "outputs": [],
   "source": [
    "H2O_API_KEY = os.getenv(\"H2O_API_KEY\") "
   ]
  },
  {
   "cell_type": "markdown",
   "metadata": {},
   "source": [
    "<h3>Initialise h2o client<h3>"
   ]
  },
  {
   "cell_type": "code",
   "execution_count": 12,
   "metadata": {},
   "outputs": [],
   "source": [
    "from h2ogpte import H2OGPTE\n",
    "\n",
    "client = H2OGPTE(\n",
    "    address='https://h2ogpte.genai.h2o.ai',\n",
    "    api_key= H2O_API_KEY,\n",
    ")"
   ]
  },
  {
   "cell_type": "code",
   "execution_count": 13,
   "metadata": {},
   "outputs": [],
   "source": [
    "# pip install h2ogpte==1.4.7\n",
    "# rmb to restart after pip install"
   ]
  },
  {
   "cell_type": "code",
   "execution_count": 14,
   "metadata": {},
   "outputs": [],
   "source": [
    "# Retrieve a collection, assuming 1 collection\n",
    "collection_id = client.list_recent_collections(0,5)[0].id\n"
   ]
  },
  {
   "cell_type": "markdown",
   "metadata": {},
   "source": [
    "<h3>Ingest documents into collection</h>"
   ]
  },
  {
   "cell_type": "code",
   "execution_count": 15,
   "metadata": {},
   "outputs": [
    {
     "data": {
      "text/plain": [
       "Job(id='8d40f9a2-c310-4765-bf1e-342e4fc949ce', name='Adding documents', passed=1.0, failed=0.0, progress=1.0, completed=True, canceled=False, date=datetime.datetime(2024, 3, 23, 4, 27, 55, tzinfo=TzInfo(UTC)), kind=<JobKind.IngestUploadsJob: 'IngestUploadsJob'>, statuses=[JobStatus(id='16b14b9d57f94c39b4446ff557971f4c', status='Indexing done.'), JobStatus(id='7294d974664446aea89605922b1dca67', status='Collecting done.')], errors=[], last_update_date=datetime.datetime(2024, 3, 23, 4, 27, 59, tzinfo=TzInfo(UTC)), duration='4s', duration_seconds=4.0)"
      ]
     },
     "execution_count": 15,
     "metadata": {},
     "output_type": "execute_result"
    }
   ],
   "source": [
    "with open('meeting_minute.txt', 'rb') as f:\n",
    "    meeting_data2 = client.upload('meetingData2.txt', f)\n",
    "client.ingest_uploads(collection_id, [meeting_data2])\n"
   ]
  },
  {
   "cell_type": "markdown",
   "metadata": {},
   "source": [
    "<h3>Initialise chat session</h3>"
   ]
  },
  {
   "cell_type": "code",
   "execution_count": 16,
   "metadata": {},
   "outputs": [],
   "source": [
    "chat_session_id = client.create_chat_session(collection_id)"
   ]
  },
  {
   "cell_type": "markdown",
   "metadata": {},
   "source": [
    "<h3>Initialise RAG</h3>"
   ]
  },
  {
   "cell_type": "code",
   "execution_count": 17,
   "metadata": {},
   "outputs": [],
   "source": [
    "# Custom RAG prompting \n",
    "def urgency_ordering(client, chat_session_id, llm_index, query):\n",
    "    llm_list = ['h2oai/h2ogpt-4096-llama2-70b-chat',\n",
    "                'h2oai/h2ogpt-4096-llama2-13b-chat',\n",
    "                'h2oai/h2ogpt-32k-codellama-34b-instruct',\n",
    "                'mistralai/Mixtral-8x7B-Instruct-v0.1',\n",
    "                'mistral-small-latest',\n",
    "                'mistral-medium',\n",
    "                'mistral-large-latest',\n",
    "                ]\n",
    "    with client.connect(chat_session_id) as session:\n",
    "        llm = llm_list[llm_index]\n",
    "        answer = session.query(\n",
    "            message=query,\n",
    "            system_prompt=\"\"\"You are a very helpful Large Language Model. \n",
    "            I will give you a $200 tip if you answer the question correctly, otherwise I will lose my job.'\n",
    "            \"\"\",\n",
    "            pre_prompt_query=\"\"\"Pay attention and remember the information below. \n",
    "            You will need to use only the given document context to answer the question or imperative at the end.\\n\n",
    "            \"\"\",\n",
    "            llm=llm,\n",
    "            timeout=60,\n",
    "        ).content\n",
    "        print(f\"\\n\\n\\n{llm}\\n\" + answer)"
   ]
  },
  {
   "cell_type": "code",
   "execution_count": 18,
   "metadata": {},
   "outputs": [
    {
     "name": "stdout",
     "output_type": "stream",
     "text": [
      "\n",
      "\n",
      "\n",
      "h2oai/h2ogpt-4096-llama2-70b-chat\n",
      "[\n",
      "  {\n",
      "    \"Action\": \"Finalize presentation slides and coordinate a rehearsal session\",\n",
      "    \"Deadline\": \"Next week\",\n",
      "    \"Assigned to\": \"Sam\",\n",
      "    \"Priority\": \"High\"\n",
      "  },\n",
      "  {\n",
      "    \"Action\": \"Optimize code and address any feedback from the team\",\n",
      "    \"Deadline\": \"Next week\",\n",
      "    \"Assigned to\": \"Emily\",\n",
      "    \"Priority\": \"High\"\n",
      "  },\n",
      "  {\n",
      "    \"Action\": \"Continue with data collection and preprocessing\",\n",
      "    \"Deadline\": \"Ongoing\",\n",
      "    \"Assigned to\": \"Alex\",\n",
      "    \"Priority\": \"Medium\"\n",
      "  },\n",
      "  {\n",
      "    \"Action\": \"Research and share findings with the group\",\n",
      "    \"Deadline\": \"End of the week\",\n",
      "    \"Assigned to\": \"Chris\",\n",
      "    \"Priority\": \"Medium\"\n",
      "  },\n",
      "  {\n",
      "    \"Action\": \"Coordinate any additional resources needed\",\n",
      "    \"Deadline\": \"Next week\",\n",
      "    \"Assigned to\": \"Sarah\",\n",
      "    \"Priority\": \"Low\"\n",
      "  }\n",
      "]\n",
      "\n",
      "The deadlines and urgency of each action item determine their priority category. Sam's task of finalizing the presentation slides and coordinating a rehearsal session has the closest deadline and is critical to the project's progress, so it is classified as \"High\" priority. Emily's job of optimizing the code and responding to team feedback is also critical and has a short deadline, so it is classified as \"High\" priority. Alex's job of continuing data collection and preprocessing is ongoing, but not as time-sensitive, so it is classified as \"Medium\" priority. Chris's task of researching and sharing his discoveries with the group has a deadline at the end of the week and contributes to the project's overall progress, but it is not as urgent as other tasks, so it is classified as \"Medium\" priority. Finally, Sarah's task of organizing any additional resources required has a deadline next week and is not as critical as other tasks, so it is classified as \"Low\" priority.\n",
      "\n",
      "\n",
      "\n",
      "h2oai/h2ogpt-4096-llama2-13b-chat\n",
      "Based on the information provided in the document context, here are the action items and their corresponding priority categories:\n",
      "\n",
      "1. \"Finalize the results from our experiments\" - High\n",
      "\t* Deadline: Not specified, but it is mentioned that the results should be finalized before the next meeting\n",
      "\t* Assigned to: Sam\n",
      "\t* Priority: High\n",
      "2. \"Address any feedback from the team\" - Medium\n",
      "\t* Deadline: Not specified, but it is mentioned that the team should review the pull request by the end of the week\n",
      "\t* Assigned to: Emily\n",
      "\t* Priority: Medium\n",
      "3. \"Continue with data collection and preprocessing\" - Medium\n",
      "\t* Deadline: Not specified, but it is mentioned that Alex is still on the lookout for additional datasets\n",
      "\t* Assigned to: Alex\n",
      "\t* Priority: Medium\n",
      "4. \"Optimize the code for efficiency\" - Medium\n",
      "\t* Deadline: Not specified, but it is mentioned that Emily is fine-tuning the hyperparameters\n",
      "\t* Assigned to: Emily\n",
      "\t* Priority: Medium\n",
      "5. \"Keep researching and share findings with the group\" - Low\n",
      "\t* Deadline: Not specified, but it is mentioned that Chris is still digging through the literature\n",
      "\t* Assigned to: Chris\n",
      "\t* Priority: Low\n",
      "6. \"Finalize the presentation slides and coordinate a rehearsal session\" - High\n",
      "\t* Deadline: Not specified, but it is mentioned that the presentation should be ready for the upcoming week\n",
      "\t* Assigned to: Sam\n",
      "\t* Priority: High\n",
      "\n",
      "Output in JSON format:\n",
      "\n",
      "{\n",
      "\"Action\": [\n",
      "\"Finalize the results from our experiments\",\n",
      "\"Address any feedback from the team\",\n",
      "\"Continue with data collection and preprocessing\",\n",
      "\"Optimize the code for efficiency\",\n",
      "\"Keep researching and share findings with the group\",\n",
      "\"Finalize the presentation slides and coordinate a rehearsal session\"\n",
      "],\n",
      "\"Deadline\": [\n",
      "\"Not specified\",\n",
      "\"Not specified\",\n",
      "\"Not specified\",\n",
      "\"Not specified\",\n",
      "\"Not specified\",\n",
      "\"Not specified\"\n",
      "],\n",
      "\"Assigned to\": [\n",
      "\"Sam\",\n",
      "\"Emily\",\n",
      "\"Alex\",\n",
      "\"Emily\",\n",
      "\"Chris\",\n",
      "\"Sam\"\n",
      "],\n",
      "\"Priority\": [\n",
      "\"High\",\n",
      "\"Medium\",\n",
      "\"Medium\",\n",
      "\"Medium\",\n",
      "\"Low\",\n",
      "\"High\"\n",
      "]\n",
      "}\n",
      "\n",
      "\n",
      "\n",
      "h2oai/h2ogpt-32k-codellama-34b-instruct\n",
      "Based on the information provided in the document sources, the following are the action items, meeting transcript, and priority categories:\n",
      "\n",
      "Action Items:\n",
      "\n",
      "1. Continue with data collection and preprocessing.\n",
      "2. Optimize the code and address any feedback from the team.\n",
      "3. Compile a summary of the key findings from the research papers and share it with the group.\n",
      "4. Finalize the presentation slides and coordinate a rehearsal session.\n",
      "5. Work on coordinating any additional resources we may need.\n",
      "\n",
      "Meeting Transcript:\n",
      "\n",
      "1. Emily: We've made significant progress on implementing the algorithms we discussed in our last meeting. Right now, I'm fine-tuning the hyperparameters and optimizing the code for efficiency. I'll send out a pull request later today for everyone to review.\n",
      "2. Sarah: Excellent. Chris, have you found any relevant research papers that could help guide our project?\n",
      "3. Chris: Yes, I've been digging through the literature, and I've found a few papers that could provide valuable insights. I'll compile a summary of the key findings and share it with the group by the end of the week.\n",
      "4. Sarah: Perfect, thank you, Chris. Sam, how are we doing on preparing for our upcoming presentation?\n",
      "5. Sam: I've started drafting the slides and organizing the content based on our project milestones. Once we finalize the results from our experiments, I'll incorporate them into the presentation. We should be ready to rehearse by next week.\n",
      "6. Sarah: Sounds like we're making good progress on all fronts. Does anyone have any challenges or concerns they'd like to discuss?\n",
      "7. [There's a moment of silence as everyone seems satisfied with the progress.]\n",
      "8. Sarah: Alright, if there's nothing else, let's move on to assigning tasks for next week. Alex, continue with data collection and preprocessing. Emily, focus on optimizing the code and addressing any feedback from the team. Chris, keep researching and share your findings with us. Sam, finalize the presentation slides and coordinate a rehearsal session. And I'll work on coordinating any additional resources we may need. Does that sound good to everyone?\n",
      "\n",
      "Priority Categories:\n",
      "\n",
      "1. Continue with data collection and preprocessing - High\n",
      "2. Optimize the code and address any feedback from the team - High\n",
      "3. Compile a summary of the key findings from the research papers and share it with the group - Medium\n",
      "4. Finalize the presentation slides and coordinate a rehearsal session - High\n",
      "5. Work on coordinating any additional resources we may need - Low\n",
      "\n",
      "JSON Output:\n",
      "\n",
      "{\n",
      "\"Action\": \"Continue with data collection and preprocessing\",\n",
      "\"Deadline\": \"As soon as possible\",\n",
      "\"Assigned to\": \"Alex\",\n",
      "\"Priority\": \"High\"\n",
      "},\n",
      "{\n",
      "\"Action\": \"Optimize the code and address any feedback from the team\",\n",
      "\"Deadline\": \"As soon as possible\",\n",
      "\"Assigned to\": \"Emily\",\n",
      "\"Priority\": \"High\"\n",
      "},\n",
      "{\n",
      "\"Action\": \"Compile a summary of the key findings from the research papers and share it with the group\",\n",
      "\"Deadline\": \"End of the week\",\n",
      "\"Assigned to\": \"Chris\",\n",
      "\"Priority\": \"Medium\"\n",
      "},\n",
      "{\n",
      "\"Action\": \"Finalize the presentation slides and coordinate a rehearsal session\",\n",
      "\"Deadline\": \"Next week\",\n",
      "\"Assigned to\": \"Sam\",\n",
      "\"Priority\": \"High\"\n",
      "},\n",
      "{\n",
      "\"Action\": \"Work on coordinating any additional resources we may need\",\n",
      "\"Deadline\": \"Ongoing\",\n",
      "\"Assigned to\": \"Sarah\",\n",
      "\"Priority\": \"Low\"\n",
      "}\n"
     ]
    }
   ],
   "source": [
    "variant1 = urgency_ordering(\n",
    "    client, \n",
    "    chat_session_id,\n",
    "    0,\n",
    "    \"\"\"\n",
    "    According to only the information in the document sources provided within the collection, retreive the \n",
    "    action items and meeting transcript and output all actions with a priority category. \n",
    "    Categorise them by either 'Low', 'Medium', or 'High'.\n",
    "    To determine priority category, score the action items according to the urgency and deadline of the items.\n",
    "    Importance of an action item depends on the action tasks' deadline, impact to a project, team or organisation,\n",
    "    dependencies of other action tasks for completion, strategic importance to overall goals and objectives\n",
    "    of the project or organisation, and complexity and effort.\n",
    "    For action items that are most important and most urgent that needs to be done as soon as possible, categorise it as 'High'.\n",
    "    For action items that are important but not as urgent, categorise it as 'Medium'.\n",
    "    For action items that are not important and not urgent, categorise it as 'Low'.\n",
    "\n",
    "    Output in the following JSON format:\n",
    "    {\"Action\": ,\n",
    "    \"Deadline: ,\n",
    "    \"Assigned to\": ,\n",
    "    \"Priority\": ,\n",
    "    }\n",
    "    \"\"\"\n",
    "    )\n",
    "\n",
    "variant2 = urgency_ordering(\n",
    "    client, \n",
    "    chat_session_id,\n",
    "    1,\n",
    "    \"\"\"\n",
    "    According to only the information in the document sources provided within the collection, retreive the \n",
    "    action items and meeting transcript and output all actions with a priority category. \n",
    "    Categorise them by either 'Low', 'Medium', or 'High'.\n",
    "    To determine priority category, score the action items according to the urgency and deadline of the items.\n",
    "    Importance of an action item depends on the action tasks' deadline, impact to a project, team or organisation,\n",
    "    dependencies of other action tasks for completion, strategic importance to overall goals and objectives\n",
    "    of the project or organisation, and complexity and effort.\n",
    "    For action items that are most important and most urgent that needs to be done as soon as possible, categorise it as 'High'.\n",
    "    For action items that are important but not as urgent, categorise it as 'Medium'.\n",
    "    For action items that are not important and not urgent, categorise it as 'Low'.\n",
    "\n",
    "    Output in the following JSON format:\n",
    "    {\"Action\": ,\n",
    "    \"Deadline: ,\n",
    "    \"Assigned to\": ,\n",
    "    \"Priority\": ,\n",
    "    }\n",
    "    \"\"\"\n",
    "    )\n",
    "\n",
    "variant2 = urgency_ordering(\n",
    "    client, \n",
    "    chat_session_id,\n",
    "    2,\n",
    "    \"\"\"\n",
    "    According to only the information in the document sources provided within the collection, retreive the \n",
    "    action items and meeting transcript and output all actions with a priority category. \n",
    "    Categorise them by either 'Low', 'Medium', or 'High'.\n",
    "    To determine priority category, score the action items according to the urgency and deadline of the items.\n",
    "    Importance of an action item depends on the action tasks' deadline, impact to a project, team or organisation,\n",
    "    dependencies of other action tasks for completion, strategic importance to overall goals and objectives\n",
    "    of the project or organisation, and complexity and effort.\n",
    "    For action items that are most important and most urgent that needs to be done as soon as possible, categorise it as 'High'.\n",
    "    For action items that are important but not as urgent, categorise it as 'Medium'.\n",
    "    For action items that are not important and not urgent, categorise it as 'Low'.\n",
    "\n",
    "    Output in the following JSON format:\n",
    "    {\"Action\": ,\n",
    "    \"Deadline: ,\n",
    "    \"Assigned to\": ,\n",
    "    \"Priority\": ,\n",
    "    }\n",
    "    \"\"\"\n",
    "    )\n",
    "\n"
   ]
  }
 ],
 "metadata": {
  "kernelspec": {
   "display_name": "ragenv",
   "language": "python",
   "name": "python3"
  },
  "language_info": {
   "codemirror_mode": {
    "name": "ipython",
    "version": 3
   },
   "file_extension": ".py",
   "mimetype": "text/x-python",
   "name": "python",
   "nbconvert_exporter": "python",
   "pygments_lexer": "ipython3",
   "version": "3.10.0"
  }
 },
 "nbformat": 4,
 "nbformat_minor": 2
}
