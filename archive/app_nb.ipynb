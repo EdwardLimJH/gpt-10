{
 "cells": [
  {
   "cell_type": "markdown",
   "metadata": {},
   "source": [
    "## Import"
   ]
  },
  {
   "cell_type": "code",
   "execution_count": 11,
   "metadata": {},
   "outputs": [],
   "source": [
    "from dotenv import load_dotenv\n",
    "import os\n",
    "import json\n",
    "from h2ogpte import H2OGPTE\n",
    "from flask import Flask, render_template, request, session\n",
    "from flask_wtf import FlaskForm\n",
    "from wtforms import FileField\n",
    "load_dotenv()\n",
    "H2O_API_KEY = os.getenv(\"H2O_API_KEY\") \n",
    "\n",
    "app = Flask(__name__)\n",
    "app.secret_key = 'your_secret_key'  \n"
   ]
  },
  {
   "cell_type": "markdown",
   "metadata": {},
   "source": [
    "## loading"
   ]
  },
  {
   "cell_type": "code",
   "execution_count": 13,
   "metadata": {},
   "outputs": [],
   "source": [
    "@app.route('/loading', methods=['GET'])\n",
    "def upload_file(data_dir):\n",
    "    client = H2OGPTE(\n",
    "        address='https://h2ogpte.genai.h2o.ai',\n",
    "        api_key= H2O_API_KEY,\n",
    "    )\n",
    "\n",
    "    # Create a new collection\n",
    "    collection_id = client.create_collection(\n",
    "        name='devMeetingAssistant',\n",
    "        description='Test development for meeting assistant (prompt engineering)',\n",
    "    )\n",
    "    with open(data_dir, 'rb') as f:\n",
    "        meeting_data = client.upload('Data/fake_sample.txt', f)\n",
    "    client.ingest_uploads(collection_id, [meeting_data,])\n",
    "    session['client'], session['collection_id'], session['meeting_data'] = client, collection_id, meeting_data\n",
    "    return render_template('loading.html',form=form)\n",
    "\n",
    "\n"
   ]
  },
  {
   "cell_type": "code",
   "execution_count": 16,
   "metadata": {},
   "outputs": [],
   "source": [
    "def rag_chat(client, chat_session_id, main_prompt, system_prompt):\n",
    "    with client.connect(chat_session_id) as session:\n",
    "        answer = session.query(\n",
    "            message=main_prompt,\n",
    "            system_prompt=system_prompt,\n",
    "            rag_config={\n",
    "            \"rag_type\": \"rag\", # https://h2oai.github.io/h2ogpte/getting_started.html#advanced-controls-for-document-q-a\n",
    "            },\n",
    "            llm='h2oai/h2ogpt-4096-llama2-70b-chat',\n",
    "        )\n",
    "        return answer\n",
    "    \n",
    "def extract_json_string(full_string):\n",
    "    start_index = full_string.find('{')  # Find the index of the first '{'\n",
    "    end_index = full_string.rfind('}')   # Find the index of the last '}'\n",
    "    \n",
    "    if start_index != -1 and end_index != -1:\n",
    "        return full_string[start_index:end_index + 1]\n",
    "    else:\n",
    "        return None\n",
    "    \n",
    "def string_like_JSON_to_txt(reply):\n",
    "    json_str = extract_json_string(reply.content)\n",
    "    \n",
    "    if json_str is None:\n",
    "        return \"Invalid JSON format. Cannot parse the response.\"\n",
    "\n",
    "    # Parse the extracted JSON string\n",
    "    try:\n",
    "        data = json.loads(json_str)\n",
    "    except json.JSONDecodeError:\n",
    "        return \"Error parsing JSON data.\"\n",
    "\n",
    "    # Extract information from the parsed data\n",
    "    agenda = data.get('Agenda', '')\n",
    "    meeting_summary = data.get('Meeting Summary', '')\n",
    "    actionables = data.get('Actionables', [])\n",
    "\n",
    "    # Format the post-meeting email\n",
    "    email_subject = f\"Post-Meeting Summary: {agenda}\"\n",
    "    email_body = f\"Dear Team,\\n\\nHere's a summary of our recent meeting:\\n\\nAgenda: {agenda}\\n\\nMeeting Summary:\\n{meeting_summary}\\n\\nActionables:\\n\"\n",
    "    for action in actionables:\n",
    "        email_body += f\"- {action['Action']} (Assigned to: {action['Assigned']}, Deadline: {action['Deadline']}, Priority: {action['Priority']})\\n\"\n",
    "\n",
    "    email_body += \"\\nPlease let me know if anything needs clarification or if there are additional action items to add.\\n\\nBest regards,\\n[Your Name]\"\n",
    "    return email_body"
   ]
  },
  {
   "cell_type": "code",
   "execution_count": null,
   "metadata": {},
   "outputs": [],
   "source": [
    "def get_summary_response(client, chat_session_id):\n",
    "    system_prompt = \"\"\"\n",
    "    You are a Meeting Assistant for a large company that wants to maximize meeting efficiency. \n",
    "    You will be given meeting transcript(s) from real project meetings held over zoom.\n",
    "    Follow all the instructions closely or everyone in the team will be fired.\n",
    "    If you do well, you will be rewarded with a $1000 tip.\n",
    "    \"\"\"\n",
    "    main_prompt = \"\"\"\n",
    "    Execute all the following steps: \\\n",
    "    1. Examine the document and identify all names of the attendees, remember these names for the next steps.\n",
    "    2. Identify and extract the main purpose or agenda of the meeting\n",
    "    3. Identify all actionables mentioned during the meeting\n",
    "    4. Extract all the actionables and action plans, identify all details related to it including the deadlines, who it is assigned to, etc.\n",
    "    5. Summarize the entire transcript\n",
    "    6. Present all identified information in the following JSON format for easy parsing:\n",
    "    {\"Agenda\": \"\", \"Meeting Summary\":\"\", \"Actionables\":[{\"Action\":\"\", \"Deadline\":\"\", \"Assigned\":\"\"}, ...]}\n",
    "    DO NOT include anything other than the JSON format output in your response.\n",
    "    \"\"\"\n",
    "    return rag_chat(client, chat_session_id, main_prompt, system_prompt)\n",
    "\n",
    "def get_sentiment_response(client, chat_session_id, meeting_summary_response):\n",
    "    system_prompt = \"\"\"\n",
    "    You are a Meeting Assistant for a large company that wants to maximize meeting efficiency. \n",
    "    You will be given meeting transcript(s) from real project meetings held over zoom.\n",
    "    Follow all the instructions closely or everyone in the team will be fired.\n",
    "    If you do well, you will be rewarded with a $1000 tip.\n",
    "    \"\"\"\n",
    "    sentiment_prompt = f\"\"\"\n",
    "    Execute all the following steps: \\\n",
    "    1. Examine the contexts of this JSON object: {meeting_summary_response}\n",
    "    2. For each actionable, execute the following steps\n",
    "    a. identify the sentence in the document where it is mentioned\n",
    "    b. Interpret the sentence, based on this context, categorize the priority of this task as \"High\", \"Medium\" or \"Low\"\n",
    "    c. Edit the JSON object, add a column to the dictionary for this action as follows: \"Priority\": \"\"\n",
    "    3. Present all identified information in the following JSON format:\n",
    "    {{\"Agenda\": \"\", \"Meeting Summary\":\"\"}} for the entire meeting\n",
    "    {{\"Actionables\":[{{\"Action\":\"\", \"Deadline\":\"\", \"Assigned\":\"\", \"Priority\":\"\"}}]}} for each action plan\n",
    "    \"\"\"\n",
    "\n",
    "    return rag_chat(client, chat_session_id, sentiment_prompt, system_prompt)\n",
    "\n"
   ]
  },
  {
   "cell_type": "code",
   "execution_count": null,
   "metadata": {},
   "outputs": [],
   "source": [
    "@app.route('/get_LLM_response', methods=['POST'])\n",
    "def get_LLM_response(data_dir):\n",
    "    client, collection_id = session.get('client'), session.get('collection_id')\n",
    "    chat_session_id = client.create_chat_session(collection_id)\n",
    "    # 1. Summary and action plan\n",
    "    meeting_summary_response = get_summary_response(client, chat_session_id)\n",
    "\n",
    "    # 2. Sentiment analysis/Priority allocation\n",
    "    sentiment_reply = get_sentiment_response(client, chat_session_id, meeting_summary_response)\n",
    "\n",
    "    # Convert to email body\n",
    "    return string_like_JSON_to_txt(sentiment_reply)\n",
    "    "
   ]
  },
  {
   "cell_type": "markdown",
   "metadata": {},
   "source": [
    "## Prompt 3: Language Translation"
   ]
  },
  {
   "cell_type": "code",
   "execution_count": null,
   "metadata": {},
   "outputs": [],
   "source": [
    "## havent thought about it yet lol"
   ]
  },
  {
   "cell_type": "markdown",
   "metadata": {},
   "source": [
    "TODO:  \n",
    "  \n",
    "Output email .txt  \n",
    "input user name for email sign-off?  \n",
    "Encapsulate all functions  \n",
    "Language Translation prompt  "
   ]
  },
  {
   "cell_type": "code",
   "execution_count": null,
   "metadata": {},
   "outputs": [],
   "source": [
    "# with open(\"trial_meeting_minutes_output.txt\",\"w\") as f:\n",
    "#     f.write(llm_reply.content)"
   ]
  },
  {
   "cell_type": "markdown",
   "metadata": {},
   "source": [
    "# Emailing stuff that I havent looked at yet"
   ]
  },
  {
   "cell_type": "markdown",
   "metadata": {},
   "source": [
    "## Convert output file into pdf file to attach to email"
   ]
  },
  {
   "cell_type": "code",
   "execution_count": null,
   "metadata": {},
   "outputs": [],
   "source": [
    "from reportlab.lib.pagesizes import letter\n",
    "from reportlab.pdfgen import canvas\n",
    "\n",
    "def create_pdf(text, filename='output.pdf'):\n",
    "    # Create a canvas\n",
    "    c = canvas.Canvas(filename, pagesize=letter)\n",
    "    \n",
    "    # Set up font\n",
    "    c.setFont(\"Helvetica\", 12)\n",
    "    \n",
    "    # Split text into lines\n",
    "    lines = text.split('\\n')\n",
    "    \n",
    "    # Set starting y-coordinate\n",
    "    y = 750\n",
    "    \n",
    "    # Write text to the canvas\n",
    "    for line in lines:\n",
    "        c.drawString(50, y, line)\n",
    "        y -= 15  # Adjust for next line\n",
    "        \n",
    "    # Save the canvas\n",
    "    c.save()\n"
   ]
  },
  {
   "cell_type": "code",
   "execution_count": null,
   "metadata": {},
   "outputs": [],
   "source": [
    "# Create PDF\n",
    "create_pdf(llm_reply.content, \"trial_meeting_minutes_output.pdf\")"
   ]
  },
  {
   "cell_type": "markdown",
   "metadata": {},
   "source": [
    "Automate Email sending\n",
    "\n",
    "https://keentolearn.medium.com/automating-emails-with-python-a-comprehensive-guide-ba00fa98b92#:~:text=Once%20you%20have%20set%20up,account%2C%20and%20send%20the%20email."
   ]
  },
  {
   "cell_type": "markdown",
   "metadata": {},
   "source": [
    "## Created junk email for everyone to use\n",
    "email : gpt10.4213.1@outlook.com <br>\n",
    "pw: gpt10email<br>\n",
    "\n",
    "name : gpt<br>\n",
    "surname : 10<br>\n",
    "country : senegal<br>\n",
    "dob : 7 Mar 1989"
   ]
  },
  {
   "cell_type": "markdown",
   "metadata": {},
   "source": [
    "#### Send email without attachment"
   ]
  },
  {
   "cell_type": "code",
   "execution_count": null,
   "metadata": {},
   "outputs": [],
   "source": [
    "# #This works!\n",
    "# import smtplib\n",
    "\n",
    "# smtp_server = 'smtp-mail.outlook.com'\n",
    "# smtp_port = 587\n",
    "# smtp_username = 'gpt10.4213.1@outlook.com'\n",
    "# smtp_password = 'gpt10email'\n",
    "\n",
    "# from_email = 'gpt10.4213.1@outlook.com'\n",
    "# to_email = 'gpt10.4213.1@outlook.com'\n",
    "# subject = 'Hello, world!'\n",
    "# body = 'This is a test email. using smtplib~~'\n",
    "\n",
    "# message = f'Subject: {subject}\\n\\n{body}'\n",
    "\n",
    "# with smtplib.SMTP(smtp_server, smtp_port) as smtp:\n",
    "#     smtp.starttls()\n",
    "#     smtp.login(smtp_username, smtp_password)\n",
    "#     smtp.sendmail(from_email, to_email, message)"
   ]
  },
  {
   "cell_type": "code",
   "execution_count": null,
   "metadata": {},
   "outputs": [],
   "source": [
    "smtp_server_mapping = {\n",
    "    \"gmail\":\"smtp.gmail.com\",\n",
    "    \"outlook\":\"smtp-mail.outlook.com\",\n",
    "    \"hotmail\":\"smtp.office365.com\",\n",
    "    \"yahoo\":\"smtp.mail.yahoo.com\",\n",
    "}  #the rest dont care first since different smtp_port # ...."
   ]
  },
  {
   "cell_type": "markdown",
   "metadata": {},
   "source": [
    "#### Send email with attachment\n",
    "\n",
    "works with a list of email addresses ~ish"
   ]
  },
  {
   "cell_type": "code",
   "execution_count": null,
   "metadata": {},
   "outputs": [],
   "source": [
    "import smtplib\n",
    "from email.mime.multipart import MIMEMultipart\n",
    "from email.mime.text import MIMEText\n",
    "from email.mime.application import MIMEApplication\n",
    "\n",
    "smtp_server = 'smtp-mail.outlook.com'\n",
    "smtp_port = 587\n",
    "smtp_username = 'gpt10.4213.1@outlook.com'\n",
    "smtp_password = 'gpt10email'\n",
    "\n",
    "from_email = 'gpt10.4213.1@outlook.com'\n",
    "to_email = 'gpt10.4213.1@outlook.com'\n",
    "to_email_list = ['gpt10.4213.1@outlook.com',]\n",
    "\n",
    "meeting_date = \"5/3/2024\"\n",
    "subject = f\"{meeting_date} Meeting\"  # meeting_date either user input or LLM search through document.\n",
    "body = f'Please find attached the report. \\n This is a summary of the meeting. \\n {llm_reply2.content}'\n",
    "\n",
    "msg = MIMEMultipart()\n",
    "msg['From'] = from_email\n",
    "# msg['To'] = to_email # send to single user\n",
    "msg['To'] = \", \".join(to_email_list) # send to multiple users\n",
    "msg['Subject'] = subject\n",
    "msg.attach(MIMEText(body))\n",
    "\n",
    "with open('trial_meeting_minutes_output.pdf', 'rb') as f:\n",
    "    attachment = MIMEApplication(f.read(), _subtype='pdf')\n",
    "    attachment.add_header('Content-Disposition', 'attachment', filename='report.pdf')\n",
    "    msg.attach(attachment)\n",
    "\n",
    "with open('trial_meeting_minutes_output.txt', 'rb') as f:\n",
    "    attachment = MIMEApplication(f.read(), _subtype='txt')\n",
    "    attachment.add_header('Content-Disposition', 'attachment', filename='report_friendly.txt')\n",
    "    msg.attach(attachment)\n",
    "\n",
    "with smtplib.SMTP(smtp_server, smtp_port) as smtp:\n",
    "    smtp.starttls()\n",
    "    smtp.login(smtp_username, smtp_password)\n",
    "    smtp.send_message(msg)"
   ]
  }
 ],
 "metadata": {
  "kernelspec": {
   "display_name": "dsa4213env",
   "language": "python",
   "name": "dsa4213env"
  },
  "language_info": {
   "codemirror_mode": {
    "name": "ipython",
    "version": 3
   },
   "file_extension": ".py",
   "mimetype": "text/x-python",
   "name": "python",
   "nbconvert_exporter": "python",
   "pygments_lexer": "ipython3",
   "version": "3.12.2"
  }
 },
 "nbformat": 4,
 "nbformat_minor": 2
}
